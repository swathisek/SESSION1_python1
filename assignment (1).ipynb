{
 "cells": [
  {
   "cell_type": "code",
   "execution_count": 1,
   "metadata": {
    "scrolled": true
   },
   "outputs": [
    {
     "name": "stdout",
     "output_type": "stream",
     "text": [
      "[2002, 2009, 2016, 2023, 2037, 2044, 2051, 2058, 2072, 2079, 2086, 2093, 2107, 2114, 2121, 2128, 2142, 2149, 2156, 2163, 2177, 2184, 2191, 2198, 2212, 2219, 2226, 2233, 2247, 2254, 2261, 2268, 2282, 2289, 2296, 2303, 2317, 2324, 2331, 2338, 2352, 2359, 2366, 2373, 2387, 2394, 2401, 2408, 2422, 2429, 2436, 2443, 2457, 2464, 2471, 2478, 2492, 2499, 2506, 2513, 2527, 2534, 2541, 2548, 2562, 2569, 2576, 2583, 2597, 2604, 2611, 2618, 2632, 2639, 2646, 2653, 2667, 2674, 2681, 2688, 2702, 2709, 2716, 2723, 2737, 2744, 2751, 2758, 2772, 2779, 2786, 2793, 2807, 2814, 2821, 2828, 2842, 2849, 2856, 2863, 2877, 2884, 2891, 2898, 2912, 2919, 2926, 2933, 2947, 2954, 2961, 2968, 2982, 2989, 2996, 3003, 3017, 3024, 3031, 3038, 3052, 3059, 3066, 3073, 3087, 3094, 3101, 3108, 3122, 3129, 3136, 3143, 3157, 3164, 3171, 3178, 3192, 3199]\n"
     ]
    }
   ],
   "source": [
    "#program to print the numbers between 2000 and 3200 ,which are multiples of 7,but not the multiples of 5\n",
    "start=2000\n",
    "stop=3200\n",
    "a_list=[]\n",
    "for i in range(start,stop+1):\n",
    "    if ((i % 7 == 0) and (i % 5 != 0)): \n",
    "        a_list.append(i )    \n",
    "print(a_list)    "
   ]
  },
  {
   "cell_type": "code",
   "execution_count": 7,
   "metadata": {},
   "outputs": [
    {
     "name": "stdout",
     "output_type": "stream",
     "text": [
      "enter your first nameSwathi \n",
      "enter your last nameSekar\n",
      "rakeS  ihtawS\n"
     ]
    }
   ],
   "source": [
    "# program to reverse the first and lastname\n",
    "\n",
    "firstname=input(\"enter your first name\")\n",
    "lastname=input(\"enter your last name\")\n",
    "d=firstname + \" \" + lastname\n",
    "print(d[::-1])\n",
    "\n",
    "\n",
    "\n",
    "\n",
    "\n",
    "\n"
   ]
  },
  {
   "cell_type": "code",
   "execution_count": 4,
   "metadata": {},
   "outputs": [
    {
     "name": "stdout",
     "output_type": "stream",
     "text": [
      "Program to print volume of sphere\n",
      "The volume of sphere is  678.24\n"
     ]
    }
   ],
   "source": [
    "#Program to print the volume of the sphere\n",
    "dia=12\n",
    "pi=3.14\n",
    "print(\"Program to print volume of sphere\")\n",
    "vol=((4//3)*pi*((dia//2)**3))\n",
    "print(\"The volume of sphere is \",vol)"
   ]
  },
  {
   "cell_type": "code",
   "execution_count": 4,
   "metadata": {},
   "outputs": [
    {
     "name": "stdout",
     "output_type": "stream",
     "text": [
      "enter a  wordAcadGild\n",
      "dliGdacA\n"
     ]
    }
   ],
   "source": [
    "#Program to get a word and print its reverse\n",
    "a=input(\"enter a  word\")\n",
    "print(a[::-1])\n",
    "\n"
   ]
  },
  {
   "cell_type": "code",
   "execution_count": 6,
   "metadata": {},
   "outputs": [
    {
     "name": "stdout",
     "output_type": "stream",
     "text": [
      "enter some numbers seperated by comma23,45,67,890\n",
      "[23, 45, 67, 890]\n"
     ]
    }
   ],
   "source": [
    "#Program to get comma seperated numbers and making them within a list\n",
    "a=input(\"enter some numbers seperated by comma\")\n",
    "b=str(a)\n",
    "c=b.split(',')\n",
    "l=[]\n",
    "for i in c:\n",
    "    l.append(int(i))\n",
    "print(l)\n",
    "\n"
   ]
  },
  {
   "cell_type": "code",
   "execution_count": 6,
   "metadata": {},
   "outputs": [
    {
     "name": "stdout",
     "output_type": "stream",
     "text": [
      "WE,THE PEOPLE OF INDIA,\n",
      "        having solemnly resolved to constitute India into a SOVEREIGN,!\n",
      "              SOCIALIST,SECULAR,DEMOCRACTIC REPUBLIC \n",
      "               and to secure to all its citizens\n"
     ]
    }
   ],
   "source": [
    "#Program to print string in various formats\n",
    "a=\"WE,THE PEOPLE OF INDIA,having solemnly resolved to constitute India into a SOVEREIGN,! SOCIALIST,SECULAR,DEMOCRACTIC REPUBLIC and to secure to all its citizens\"\n",
    "\n",
    "print(a[:23])\n",
    "print(\"       \",a[23:86])\n",
    "print(\"            \",a[86:126])\n",
    "print(\"              \",a[126:])\n"
   ]
  },
  {
   "cell_type": "code",
   "execution_count": 7,
   "metadata": {},
   "outputs": [
    {
     "name": "stdout",
     "output_type": "stream",
     "text": [
      "* \n",
      "* * \n",
      "* * * \n",
      "* * * * \n",
      "* * * * * \n",
      "* * * * \n",
      "* * * \n",
      "* * \n",
      "* \n",
      "\n"
     ]
    }
   ],
   "source": [
    "#Program to print a pattern\n",
    "for i in range(0,5):\n",
    "    for j in range(0,i+1):\n",
    "        print( \"*\", end=\" \")\n",
    "    print()\n",
    "\n",
    "for i in range(0,5):   \n",
    "    for k in range(4,i,-1):\n",
    "        print( \"*\", end=\" \")\n",
    "    print()\n",
    "\n",
    "       \n",
    "    "
   ]
  }
 ],
 "metadata": {
  "kernelspec": {
   "display_name": "Python 3",
   "language": "python",
   "name": "python3"
  },
  "language_info": {
   "codemirror_mode": {
    "name": "ipython",
    "version": 3
   },
   "file_extension": ".py",
   "mimetype": "text/x-python",
   "name": "python",
   "nbconvert_exporter": "python",
   "pygments_lexer": "ipython3",
   "version": "3.7.1"
  }
 },
 "nbformat": 4,
 "nbformat_minor": 2
}
